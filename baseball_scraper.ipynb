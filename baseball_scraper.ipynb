{
 "cells": [
  {
   "cell_type": "code",
   "execution_count": 1,
   "metadata": {},
   "outputs": [],
   "source": [
    "import pandas as pd\n",
    "import numpy as np"
   ]
  },
  {
   "cell_type": "code",
   "execution_count": 4,
   "metadata": {},
   "outputs": [],
   "source": [
    "df=pd.read_html(\"https://www.espn.com/mlb/player/_/id/33039/mookie-betts\")\n",
    "betts = df[3]\n",
    "betts.to_html(\"test.txt\")"
   ]
  },
  {
   "cell_type": "code",
   "execution_count": 6,
   "metadata": {},
   "outputs": [],
   "source": [
    "df2 = pd.read_html(\"https://www.espn.com/mlb/player/_/id/34886/alex-bregman\")\n",
    "bregman = df2[3]\n",
    "bregman.to_html(\"test2.txt\")"
   ]
  },
  {
   "cell_type": "code",
   "execution_count": 9,
   "metadata": {},
   "outputs": [],
   "source": [
    "df3 = pd.read_html(\"https://www.espn.com/mlb/player/_/id/33172/kris-bryant\")\n",
    "bryant = df3[3]\n",
    "bryant.to_html(\"test3.txt\")"
   ]
  },
  {
   "cell_type": "code",
   "execution_count": 14,
   "metadata": {},
   "outputs": [],
   "source": [
    "df4 = pd.read_html(\"https://www.espn.com/mlb/player/_/id/32796/jacob-degrom\")\n",
    "degrom = df4[2]\n",
    "degrom.to_html(\"test4.txt\")"
   ]
  },
  {
   "cell_type": "code",
   "execution_count": 16,
   "metadata": {},
   "outputs": [],
   "source": [
    "df5 = pd.read_html(\"https://www.espn.com/mlb/player/_/id/35983/fernando-tatis-jr\")\n",
    "tatis = df5[3]\n",
    "tatis.to_html(\"test5.txt\")"
   ]
  },
  {
   "cell_type": "code",
   "execution_count": 17,
   "metadata": {},
   "outputs": [],
   "source": [
    "df6 = pd.read_html(\"https://www.espn.com/mlb/player/_/id/30836/mike-trout\")\n",
    "trout = df6[3]\n",
    "trout.to_html(\"test6.txt\")"
   ]
  },
  {
   "cell_type": "code",
   "execution_count": 18,
   "metadata": {},
   "outputs": [],
   "source": [
    "df7 = pd.read_html(\"https://www.espn.com/mlb/player/_/id/32081/gerrit-cole\")\n",
    "cole = df7[3]\n",
    "cole.to_html(\"test7.txt\")"
   ]
  },
  {
   "cell_type": "code",
   "execution_count": 19,
   "metadata": {},
   "outputs": [],
   "source": [
    "df8 = pd.read_html(\"https://www.espn.com/mlb/player/_/id/31283/christian-yelich\")\n",
    "yelich = df8[3]\n",
    "yelich.to_html(\"test8.txt\")"
   ]
  },
  {
   "cell_type": "code",
   "execution_count": 20,
   "metadata": {},
   "outputs": [],
   "source": [
    "df9 = pd.read_html(\"https://www.espn.com/mlb/player/_/id/31261/nolan-arenado\")\n",
    "arenado = df9[3]\n",
    "arenado.to_html(\"test9.txt\")"
   ]
  },
  {
   "cell_type": "code",
   "execution_count": null,
   "metadata": {},
   "outputs": [],
   "source": []
  }
 ],
 "metadata": {
  "kernelspec": {
   "display_name": "Python 3",
   "language": "python",
   "name": "python3"
  },
  "language_info": {
   "codemirror_mode": {
    "name": "ipython",
    "version": 3
   },
   "file_extension": ".py",
   "mimetype": "text/x-python",
   "name": "python",
   "nbconvert_exporter": "python",
   "pygments_lexer": "ipython3",
   "version": "3.8.3"
  }
 },
 "nbformat": 4,
 "nbformat_minor": 4
}
